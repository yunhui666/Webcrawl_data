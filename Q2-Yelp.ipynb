{
 "cells": [
  {
   "cell_type": "code",
   "execution_count": 13,
   "id": "6bcd47d4",
   "metadata": {},
   "outputs": [],
   "source": [
    "import time\n",
    "import pandas as pd\n",
    "from bs4 import BeautifulSoup\n",
    "from selenium import webdriver\n",
    "from selenium.common.exceptions import NoSuchElementException\n",
    "from sklearn.decomposition import LatentDirichletAllocation, NMF \n",
    "from wordcloud import WordCloud, ImageColorGenerator \n",
    "import matplotlib.pyplot as plt \n",
    "import seaborn as sns\n",
    "import csv\n",
    "\n",
    "pd.options.mode.chained_assignment = None \n",
    "pd.set_option('display.max_colwidth', 100)"
   ]
  },
  {
   "cell_type": "code",
   "execution_count": 6,
   "id": "7a691f0d",
   "metadata": {},
   "outputs": [],
   "source": [
    "path = \"chromedriver\"\n",
    "browser = webdriver.Chrome(path)\n",
    "\n",
    "link = \"https://www.yelp.com/biz/caff%C3%A8-panna-new-york?osq=panna+caffe\"\n",
    "browser.get(link)\n",
    "\n",
    "time.sleep(2)"
   ]
  },
  {
   "cell_type": "code",
   "execution_count": 7,
   "id": "b49a98cc",
   "metadata": {},
   "outputs": [],
   "source": [
    "def check_exists_by_xpath(xpath):\n",
    "    try:\n",
    "        browser.find_element_by_xpath(xpath)\n",
    "    except NoSuchElementException:\n",
    "        return False\n",
    "    return True"
   ]
  },
  {
   "cell_type": "code",
   "execution_count": 8,
   "id": "43da5e56",
   "metadata": {},
   "outputs": [],
   "source": [
    "page_source = browser.page_source\n",
    "page_num = 10\n",
    "\n",
    "reviewText = []\n",
    "reviewRating = []\n",
    "reviewID = []\n",
    "\n",
    "for i in range(0, page_num):\n",
    "    # parse to a soup\n",
    "    page_source = browser.page_source\n",
    "    soup = BeautifulSoup(page_source, 'lxml')\n",
    "    reviews_content = soup.find_all('div', class_=\"review__373c0__3MsBX border-color--default__373c0__1WKlL\")\n",
    "    for review in reviews_content:\n",
    "        review_ID = review.find('a', class_=\"css-166la90\").text\n",
    "        review_Text = review.find('span', class_='raw__373c0__tQAx6').text\n",
    "        review_Rating = review.find('span',class_='display--inline__373c0__1gaV4 border-color--default__373c0__1yxBb').div['aria-label'][0]\n",
    "        # append to our accumulative lists\n",
    "        reviewText.append(review_Text)\n",
    "        reviewID.append(review_ID)\n",
    "        reviewRating.append(review_Rating)\n",
    "    # use selenium to go to the next page\n",
    "    if (check_exists_by_xpath('//a[@class=\"next-link navigation-button__373c0__1f-Ah css-166la90\"]')):\n",
    "        browser.find_element_by_xpath('//a[@class=\"next-link navigation-button__373c0__1f-Ah css-166la90\"]').click()\n",
    "        time.sleep(1)\n",
    "    "
   ]
  },
  {
   "cell_type": "code",
   "execution_count": 9,
   "id": "add4bbdb",
   "metadata": {},
   "outputs": [],
   "source": [
    "data = {\n",
    "    'reviewText':reviewText,\n",
    "    'reviewID':reviewID,\n",
    "    'reviewRating':reviewRating\n",
    "}\n",
    "\n",
    "test = pd.DataFrame(data)"
   ]
  },
  {
   "cell_type": "code",
   "execution_count": 10,
   "id": "229f7952",
   "metadata": {},
   "outputs": [],
   "source": [
    "test.to_csv('Yelp.csv')"
   ]
  },
  {
   "cell_type": "code",
   "execution_count": 14,
   "id": "0b8cc23c",
   "metadata": {},
   "outputs": [],
   "source": [
    "csvFile = open('Yelp.csv', 'r')\n",
    "reader = csv.reader(csvFile)"
   ]
  }
 ],
 "metadata": {
  "kernelspec": {
   "display_name": "Python 3",
   "language": "python",
   "name": "python3"
  },
  "language_info": {
   "codemirror_mode": {
    "name": "ipython",
    "version": 3
   },
   "file_extension": ".py",
   "mimetype": "text/x-python",
   "name": "python",
   "nbconvert_exporter": "python",
   "pygments_lexer": "ipython3",
   "version": "3.8.8"
  }
 },
 "nbformat": 4,
 "nbformat_minor": 5
}
